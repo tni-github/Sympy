{
 "cells": [
  {
   "cell_type": "markdown",
   "id": "0b8dac00",
   "metadata": {},
   "source": [
    "Дана функция **f(x) = (sin(x)/2 + cos(x)/2)^2 * sin(x))**\n",
    "\n",
    "1. Определить корни\n",
    "\n",
    "2. Найти интервалы, на которых функция возрастает\n",
    "\n",
    "3. Найти интервалы, на которых функция убывает\n",
    "\n",
    "4. Построить график\n",
    "\n",
    "5. Вычислить вершину\n",
    "\n",
    "6. Определить промежутки, на котором f > 0\n",
    "\n",
    "7. Определить промежутки, на котором f < 0"
   ]
  },
  {
   "cell_type": "code",
   "execution_count": 1,
   "id": "1b689727",
   "metadata": {},
   "outputs": [
    {
     "data": {
      "text/latex": [
       "$\\displaystyle \\frac{\\sin{\\left(x \\right)} \\sin^{2}{\\left(x + \\frac{\\pi}{4} \\right)}}{2}$"
      ],
      "text/plain": [
       "sin(x)*sin(x + pi/4)**2/2"
      ]
     },
     "execution_count": 1,
     "metadata": {},
     "output_type": "execute_result"
    }
   ],
   "source": [
    "from sympy.abc import x\n",
    "from sympy import *\n",
    "from sympy.calculus.util import maximum\n",
    "\n",
    "y = trigsimp(((sin(x)/2) + (cos(x)/2)) ** 2 * sin(x))\n",
    "y"
   ]
  },
  {
   "cell_type": "markdown",
   "id": "4dc5dd99",
   "metadata": {},
   "source": [
    "**1. Определить корни.**"
   ]
  },
  {
   "cell_type": "code",
   "execution_count": 2,
   "id": "ecaa16aa",
   "metadata": {},
   "outputs": [
    {
     "data": {
      "text/latex": [
       "$\\displaystyle \\left\\{2 n \\pi\\; \\middle|\\; n \\in \\mathbb{Z}\\right\\} \\cup \\left\\{2 n \\pi + \\pi\\; \\middle|\\; n \\in \\mathbb{Z}\\right\\} \\cup \\left\\{2 n \\pi + \\frac{3 \\pi}{4}\\; \\middle|\\; n \\in \\mathbb{Z}\\right\\} \\cup \\left\\{2 n \\pi + \\frac{7 \\pi}{4}\\; \\middle|\\; n \\in \\mathbb{Z}\\right\\}$"
      ],
      "text/plain": [
       "Union(ImageSet(Lambda(_n, 2*_n*pi + 3*pi/4), Integers), ImageSet(Lambda(_n, 2*_n*pi + 7*pi/4), Integers), ImageSet(Lambda(_n, 2*_n*pi + pi), Integers), ImageSet(Lambda(_n, 2*_n*pi), Integers))"
      ]
     },
     "execution_count": 2,
     "metadata": {},
     "output_type": "execute_result"
    }
   ],
   "source": [
    "x_when_y_null = solveset(y, x)\n",
    "x_when_y_null"
   ]
  },
  {
   "cell_type": "markdown",
   "id": "1d8edd3c",
   "metadata": {},
   "source": [
    "Обозначения при выводе корней (для ориентира по записи корней):\n",
    "∪ - объединение множеств: множество, содержащее в себе все элементы исходных множеств;\n",
    "ℤ — множество целых чисел. Оно состоит из натуральных чисел, им противоположных и нуля."
   ]
  },
  {
   "cell_type": "markdown",
   "id": "9c7cb126",
   "metadata": {},
   "source": [
    "Из решения шага (поиск корней) выше следует, что период функции равен 2𝜋, для дальнейших шагов будем использовать минимальный положительный период [0; 2𝜋], т.к. далее все, что мы найдем, будет повторяться с шагом в 2𝜋. \n",
    "Корни на минимальном положительном периоде от 0 до 2𝜋: 0, 𝜋, 3𝜋/4, 7𝜋/4, 2𝜋."
   ]
  },
  {
   "cell_type": "markdown",
   "id": "402a6d7f",
   "metadata": {},
   "source": [
    "**2. Найти интервалы, на которых функция возрастает.**"
   ]
  },
  {
   "cell_type": "code",
   "execution_count": 3,
   "id": "e5bc29fc",
   "metadata": {},
   "outputs": [
    {
     "name": "stdout",
     "output_type": "stream",
     "text": [
      "Функция возрастает на отрезке: [-atan(9/8 - sqrt(17)/8)/2 + 2*pi; atan(1/tan(atan(sqrt(17)/8 + 9/8)/2))]\n",
      "\n",
      "Функция возрастает на отрезке: [3*pi/4; pi - atan(9/8 - sqrt(17)/8)/2]\n",
      "\n",
      "Функция возрастает на отрезке: [-atan(sqrt(17)/8 + 9/8)/2 + 3*pi/2; 7*pi/4]\n",
      "\n"
     ]
    }
   ],
   "source": [
    "x_when_diff_y_null_in_period = sorted(solveset(diff(y, x), x, domain=Interval(0, 2*pi)))\n",
    "# x_when_y_null_in_period - список из координат x, в которых y' = 0 (y' - производная) \n",
    "# на отрезке минимального положительного периода, в этих точках будут точки экстремума (перегиба в графике)\n",
    "div_arr = []\n",
    "# div_arr будет списком из разниц между координатами x, в которых y' = 0\n",
    "for i in range(0, len(x_when_diff_y_null_in_period)):\n",
    "    div = simplify(x_when_diff_y_null_in_period[i] - x_when_diff_y_null_in_period[i-1])\n",
    "    div_arr.append(div)\n",
    "min_div = min(div_arr)\n",
    "min_div\n",
    "# min_div - значение минимума из списка разниц списка между элементами div_arr (для последующего использования);\n",
    "# min_div используется для того, чтобы не выйти за пределы интервала между элементами x_when_diff_y_null_in_period\n",
    "for i in range(1, 100):\n",
    "    if 1 / (10 ** i) < min_div:\n",
    "        div = 1 / (10 ** i)\n",
    "        break\n",
    "# div - такая разница, которая меньше минимальной разницы между элементами списка div_arr\n",
    "for i in range(0, len(x_when_diff_y_null_in_period)):\n",
    "    if y.subs(x, x_when_diff_y_null_in_period[i]) > y.subs(x, x_when_diff_y_null_in_period[i] + div):\n",
    "        print(f'Функция возрастает на отрезке: [{simplify(x_when_diff_y_null_in_period[i-1])}; {simplify(x_when_diff_y_null_in_period[i])}]\\n')\n",
    "    else:\n",
    "        continue"
   ]
  },
  {
   "cell_type": "markdown",
   "id": "79dafc8c",
   "metadata": {},
   "source": [
    "**3. Найти интервалы, на которых функция убывает.**"
   ]
  },
  {
   "cell_type": "code",
   "execution_count": 4,
   "id": "e1735f45",
   "metadata": {},
   "outputs": [
    {
     "name": "stdout",
     "output_type": "stream",
     "text": [
      "Функция убывает на отрезке: [atan(1/tan(atan(sqrt(17)/8 + 9/8)/2)); 3*pi/4]\n",
      "\n",
      "Функция убывает на отрезке: [pi - atan(9/8 - sqrt(17)/8)/2; -atan(sqrt(17)/8 + 9/8)/2 + 3*pi/2]\n",
      "\n",
      "Функция убывает на отрезке: [7*pi/4; -atan(9/8 - sqrt(17)/8)/2 + 2*pi]\n",
      "\n"
     ]
    }
   ],
   "source": [
    "for i in range(0, len(x_when_diff_y_null_in_period)):\n",
    "    if y.subs(x, x_when_diff_y_null_in_period[i]) < y.subs(x, x_when_diff_y_null_in_period[i] + div):\n",
    "        print(f'Функция убывает на отрезке: [{simplify(x_when_diff_y_null_in_period[i-1])}; {simplify(x_when_diff_y_null_in_period[i])}]\\n')\n",
    "    else:\n",
    "        continue"
   ]
  },
  {
   "cell_type": "markdown",
   "id": "185e5938",
   "metadata": {},
   "source": [
    "**4. Построить график.**"
   ]
  },
  {
   "cell_type": "markdown",
   "id": "5e286659",
   "metadata": {},
   "source": [
    "Построим график на минимальном положительном периоде, а также на двойном минимальном положительном периоде \n",
    "(двойной минимальный период взят для того, чтобы наглядно убедиться в повторении графика \n",
    "на минимальном положительном периоде 2𝜋)."
   ]
  },
  {
   "cell_type": "code",
   "execution_count": 5,
   "id": "695b0ae5",
   "metadata": {},
   "outputs": [
    {
     "data": {
      "image/png": "[encoded data removed]",
      "text/plain": [
       "<Figure size 432x288 with 1 Axes>"
      ]
     },
     "metadata": {
      "needs_background": "light"
     },
     "output_type": "display_data"
    },
    {
     "data": {
      "image/png": "[encoded data removed]",
      "text/plain": [
       "<Figure size 432x288 with 1 Axes>"
      ]
     },
     "metadata": {
      "needs_background": "light"
     },
     "output_type": "display_data"
    }
   ],
   "source": [
    "graph_double = plot(y, (x, 0, 4*pi)) # график на двойном минимальном положительном периоде \n",
    "graph_min = plot(y, (x, 0, 2*pi)) # график на минимальном положительном периоде "
   ]
  },
  {
   "cell_type": "markdown",
   "id": "ee5432bf",
   "metadata": {},
   "source": [
    "**5. Вычислить вершину.**"
   ]
  },
  {
   "cell_type": "code",
   "execution_count": 6,
   "id": "e52bcc6a",
   "metadata": {},
   "outputs": [
    {
     "name": "stdout",
     "output_type": "stream",
     "text": [
      "Вершина (точка с максимальным значением по y) в пределах минимального положительного периода имеет координаты:\n",
      "\n",
      "x-координата: atan(1/tan(atan(sqrt(17)/8 + 9/8)/2))\n",
      "\n",
      "y-координата: sin(pi/4 + atan(1/tan(atan(sqrt(17)/8 + 9/8)/2)))**2/(2*sqrt(1 + tan(atan(sqrt(17)/8 + 9/8)/2)**(-2))*tan(atan(sqrt(17)/8 + 9/8)/2))\n",
      "\n"
     ]
    }
   ],
   "source": [
    "max_min = solveset(diff(y, x), x, domain=Interval(0, 2*pi))\n",
    "max_min = list(max_min)\n",
    "y_arr = []\n",
    "x_arr = []\n",
    "for i in range(0, len(max_min)):\n",
    "    x_arr.append(simplify(max_min[i]))\n",
    "    y_arr.append(y.subs(x, simplify(max_min[i])))\n",
    "max_y_index = y_arr.index(max(y_arr))\n",
    "print('Вершина (точка с максимальным значением по y) в пределах минимального положительного периода имеет координаты:\\n')\n",
    "print(f'x-координата: {x_arr[max_y_index]}\\n')\n",
    "print(f'y-координата: {y_arr[max_y_index]}\\n')"
   ]
  },
  {
   "cell_type": "markdown",
   "id": "98fd8189",
   "metadata": {},
   "source": [
    "**6. Определить промежутки, на котором f > 0.**"
   ]
  },
  {
   "cell_type": "code",
   "execution_count": 7,
   "id": "1fa3a442",
   "metadata": {},
   "outputs": [
    {
     "data": {
      "text/latex": [
       "$\\displaystyle \\left(0, \\frac{3 \\pi}{4}\\right) \\cup \\left(\\frac{3 \\pi}{4}, \\pi\\right)$"
      ],
      "text/plain": [
       "Union(Interval.open(0, 3*pi/4), Interval.open(3*pi/4, pi))"
      ]
     },
     "execution_count": 7,
     "metadata": {},
     "output_type": "execute_result"
    }
   ],
   "source": [
    "solve_univariate_inequality(y > 0, x, relational=False, domain=Interval(0, 2*pi))"
   ]
  },
  {
   "cell_type": "markdown",
   "id": "08b3e0f9",
   "metadata": {},
   "source": [
    "**Ответ**: на промежутке минимального положительного периода  [0; 2𝜋] \n",
    "функция положительная при x > 0 и x < 𝜋, исключая точку x = 3𝜋/4.\n",
    "Точка x = 3𝜋/4 исключена из решения, т.к. эта точка - один из корней уравнения f(x) = 0."
   ]
  },
  {
   "cell_type": "markdown",
   "id": "22295c38",
   "metadata": {},
   "source": [
    "**7. Определить промежутки, на котором f < 0.**"
   ]
  },
  {
   "cell_type": "code",
   "execution_count": 8,
   "id": "c1cd874c",
   "metadata": {},
   "outputs": [
    {
     "data": {
      "text/latex": [
       "$\\displaystyle \\left(\\pi, \\frac{7 \\pi}{4}\\right) \\cup \\left(\\frac{7 \\pi}{4}, 2 \\pi\\right)$"
      ],
      "text/plain": [
       "Union(Interval.open(pi, 7*pi/4), Interval.open(7*pi/4, 2*pi))"
      ]
     },
     "execution_count": 8,
     "metadata": {},
     "output_type": "execute_result"
    }
   ],
   "source": [
    "solve_univariate_inequality(y < 0, x, relational=False, domain=Interval(0, 2*pi))"
   ]
  },
  {
   "cell_type": "markdown",
   "id": "2fa036de",
   "metadata": {},
   "source": [
    "**Ответ**: на промежутке минимального положительного периода  [0; 2𝜋] \n",
    "функция отрицательная при x > 𝜋 и x < 2𝜋, исключая точку x = 7𝜋/4.\n",
    "Точка x = 7𝜋/4 исключена из решения, т.к. эта точка - один из корней уравнения f(x) = 0."
   ]
  }
 ],
 "metadata": {
  "kernelspec": {
   "display_name": "Python 3 (ipykernel)",
   "language": "python",
   "name": "python3"
  },
  "language_info": {
   "codemirror_mode": {
    "name": "ipython",
    "version": 3
   },
   "file_extension": ".py",
   "mimetype": "text/x-python",
   "name": "python",
   "nbconvert_exporter": "python",
   "pygments_lexer": "ipython3",
   "version": "3.9.12"
  }
 },
 "nbformat": 4,
 "nbformat_minor": 5
}
